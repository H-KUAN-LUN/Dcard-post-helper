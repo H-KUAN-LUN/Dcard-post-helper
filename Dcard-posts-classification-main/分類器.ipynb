{
 "cells": [
  {
   "cell_type": "code",
   "execution_count": 1,
   "metadata": {},
   "outputs": [],
   "source": [
    "import re\n",
    "from pprint import pprint\n",
    "\n",
    "import pandas as pd\n",
    "import numpy as np\n",
    "import matplotlib.pyplot as plt\n",
    "import seaborn as sns\n",
    "import jieba\n",
    "from sklearn.model_selection import train_test_split, cross_validate, cross_val_predict, KFold\n",
    "from sklearn.metrics import (\n",
    "    confusion_matrix,\n",
    "    classification_report,\n",
    "    roc_curve,\n",
    "    auc,\n",
    "    precision_recall_curve,\n",
    "    RocCurveDisplay\n",
    ")\n",
    "from sklearn.feature_extraction.text import TfidfVectorizer, CountVectorizer\n",
    "from sklearn.preprocessing import LabelBinarizer\n",
    "from sklearn.linear_model import LogisticRegression\n",
    "from sklearn.naive_bayes import GaussianNB\n",
    "from sklearn.tree import DecisionTreeClassifier, plot_tree\n",
    "from sklearn.ensemble import RandomForestClassifier\n",
    "from sklearn import svm"
   ]
  },
  {
   "cell_type": "code",
   "execution_count": 2,
   "metadata": {},
   "outputs": [],
   "source": [
    "plt.rcParams['font.sans-serif']=['SimHei']\n",
    "plt.rcParams['axes.unicode_minus']=False\n"
   ]
  },
  {
   "cell_type": "markdown",
   "metadata": {},
   "source": [
    "# 1. 文字前處理"
   ]
  },
  {
   "cell_type": "code",
   "execution_count": 3,
   "metadata": {},
   "outputs": [
    {
     "data": {
      "text/html": [
       "<div>\n",
       "<style scoped>\n",
       "    .dataframe tbody tr th:only-of-type {\n",
       "        vertical-align: middle;\n",
       "    }\n",
       "\n",
       "    .dataframe tbody tr th {\n",
       "        vertical-align: top;\n",
       "    }\n",
       "\n",
       "    .dataframe thead th {\n",
       "        text-align: right;\n",
       "    }\n",
       "</style>\n",
       "<table border=\"1\" class=\"dataframe\">\n",
       "  <thead>\n",
       "    <tr style=\"text-align: right;\">\n",
       "      <th></th>\n",
       "      <th>system_id</th>\n",
       "      <th>dataSource</th>\n",
       "      <th>artUrl</th>\n",
       "      <th>artDate</th>\n",
       "      <th>artTitle</th>\n",
       "      <th>artContent</th>\n",
       "      <th>boardID</th>\n",
       "      <th>commentCount</th>\n",
       "      <th>department</th>\n",
       "      <th>gender</th>\n",
       "      <th>school</th>\n",
       "    </tr>\n",
       "  </thead>\n",
       "  <tbody>\n",
       "    <tr>\n",
       "      <th>0</th>\n",
       "      <td>1</td>\n",
       "      <td>Dcard</td>\n",
       "      <td>https://www.dcard.tw/f/talk/p/255935216</td>\n",
       "      <td>2024-06-23 23:26:22</td>\n",
       "      <td>睡到一半被酸醒</td>\n",
       "      <td>有時候都會睡到半夜突然被右手臂酸醒，而且是從手臂酸到右腳然後又有一種尿急的感覺(完全沒有想尿...</td>\n",
       "      <td>talk</td>\n",
       "      <td>0</td>\n",
       "      <td>q00148</td>\n",
       "      <td>M</td>\n",
       "      <td>allen</td>\n",
       "    </tr>\n",
       "    <tr>\n",
       "      <th>1</th>\n",
       "      <td>2</td>\n",
       "      <td>Dcard</td>\n",
       "      <td>https://www.dcard.tw/f/talk/p/255935193</td>\n",
       "      <td>2024-06-23 23:14:11</td>\n",
       "      <td>在停車場正要離開時，被車子擋住會怎樣</td>\n",
       "      <td>在停車場繳完費正要離開時\\n\\n有車主因為懶得走路，把車子開到距離繳費機比較近的地方，再下車...</td>\n",
       "      <td>talk</td>\n",
       "      <td>1</td>\n",
       "      <td>NaN</td>\n",
       "      <td>F</td>\n",
       "      <td>國立臺灣藝術大學</td>\n",
       "    </tr>\n",
       "    <tr>\n",
       "      <th>2</th>\n",
       "      <td>3</td>\n",
       "      <td>Dcard</td>\n",
       "      <td>https://www.dcard.tw/f/talk/p/255933439</td>\n",
       "      <td>2024-06-23 15:40:44</td>\n",
       "      <td>請問大家願意花多少錢去蜜月（2人）呢？</td>\n",
       "      <td>Option #1: 30萬以下\\nOption #2: 30-40萬\\nOption #3...</td>\n",
       "      <td>talk</td>\n",
       "      <td>0</td>\n",
       "      <td>k9999303</td>\n",
       "      <td>M</td>\n",
       "      <td>一起看日出</td>\n",
       "    </tr>\n",
       "  </tbody>\n",
       "</table>\n",
       "</div>"
      ],
      "text/plain": [
       "  system_id dataSource                                   artUrl  \\\n",
       "0         1      Dcard  https://www.dcard.tw/f/talk/p/255935216   \n",
       "1         2      Dcard  https://www.dcard.tw/f/talk/p/255935193   \n",
       "2         3      Dcard  https://www.dcard.tw/f/talk/p/255933439   \n",
       "\n",
       "               artDate             artTitle  \\\n",
       "0  2024-06-23 23:26:22              睡到一半被酸醒   \n",
       "1  2024-06-23 23:14:11   在停車場正要離開時，被車子擋住會怎樣   \n",
       "2  2024-06-23 15:40:44  請問大家願意花多少錢去蜜月（2人）呢？   \n",
       "\n",
       "                                          artContent boardID commentCount  \\\n",
       "0  有時候都會睡到半夜突然被右手臂酸醒，而且是從手臂酸到右腳然後又有一種尿急的感覺(完全沒有想尿...    talk            0   \n",
       "1  在停車場繳完費正要離開時\\n\\n有車主因為懶得走路，把車子開到距離繳費機比較近的地方，再下車...    talk            1   \n",
       "2  Option #1: 30萬以下\\nOption #2: 30-40萬\\nOption #3...    talk            0   \n",
       "\n",
       "  department gender    school  \n",
       "0     q00148      M     allen  \n",
       "1        NaN      F  國立臺灣藝術大學  \n",
       "2   k9999303      M     一起看日出  "
      ]
     },
     "execution_count": 3,
     "metadata": {},
     "output_type": "execute_result"
    }
   ],
   "source": [
    "udn = pd.read_csv(\"raw_data\\merge_from_ofoct copy.csv\")  # 匯資料\n",
    "# 找出 boardID 欄位值為 'boardID' 的資料行索引\n",
    "indices_to_drop = udn[udn['boardID'] == 'boardID'].index\n",
    "\n",
    "# 刪除這些資料行\n",
    "udn.drop(indices_to_drop, inplace=True)\n",
    "\n",
    "# 顯示更新後的前三行數據\n",
    "udn.head(3)\n",
    "udn.head(3)"
   ]
  },
  {
   "cell_type": "code",
   "execution_count": 4,
   "metadata": {},
   "outputs": [
    {
     "name": "stdout",
     "output_type": "stream",
     "text": [
      "object\n",
      "0\n",
      "number of posts: 6012\n",
      "date range: (Timestamp('2024-05-01 00:02:51'), Timestamp('2024-06-24 08:59:29'))\n",
      "category: \n",
      "boardID\n",
      "relationship    2234\n",
      "mood            2160\n",
      "talk            1618\n",
      "Name: count, dtype: int64\n"
     ]
    }
   ],
   "source": [
    "print(udn['artDate'].dtype)\n",
    "\n",
    "# 嘗試將 'artDate' 列轉換為日期格式\n",
    "udn['artDate'] = pd.to_datetime(udn['artDate'], errors='coerce')\n",
    "\n",
    "# 再次檢查是否有無效日期\n",
    "print(udn['artDate'].isna().sum())\n",
    "\n",
    "# 然後重新執行原來的代碼\n",
    "print(f\"number of posts: {udn.shape[0]}\")\n",
    "print(f\"date range: {(udn['artDate'].min(), udn['artDate'].max())}\")\n",
    "print(f\"category: \\n{udn['boardID'].value_counts()}\")\n"
   ]
  },
  {
   "cell_type": "markdown",
   "metadata": {},
   "source": [
    "## 1.1清理"
   ]
  },
  {
   "cell_type": "code",
   "execution_count": 5,
   "metadata": {},
   "outputs": [
    {
     "data": {
      "text/html": [
       "<div>\n",
       "<style scoped>\n",
       "    .dataframe tbody tr th:only-of-type {\n",
       "        vertical-align: middle;\n",
       "    }\n",
       "\n",
       "    .dataframe tbody tr th {\n",
       "        vertical-align: top;\n",
       "    }\n",
       "\n",
       "    .dataframe thead th {\n",
       "        text-align: right;\n",
       "    }\n",
       "</style>\n",
       "<table border=\"1\" class=\"dataframe\">\n",
       "  <thead>\n",
       "    <tr style=\"text-align: right;\">\n",
       "      <th></th>\n",
       "      <th>system_id</th>\n",
       "      <th>dataSource</th>\n",
       "      <th>artUrl</th>\n",
       "      <th>artDate</th>\n",
       "      <th>artTitle</th>\n",
       "      <th>artContent</th>\n",
       "      <th>boardID</th>\n",
       "      <th>commentCount</th>\n",
       "      <th>department</th>\n",
       "      <th>gender</th>\n",
       "      <th>school</th>\n",
       "    </tr>\n",
       "  </thead>\n",
       "  <tbody>\n",
       "    <tr>\n",
       "      <th>0</th>\n",
       "      <td>1</td>\n",
       "      <td>Dcard</td>\n",
       "      <td>https://www.dcard.tw/f/talk/p/255935216</td>\n",
       "      <td>2024-06-23 23:26:22</td>\n",
       "      <td>睡到一半被酸醒</td>\n",
       "      <td>有時候都會睡到半夜突然被右手臂酸醒而且是從手臂酸到右腳然後又有一種尿急的感覺完全沒有想尿尿整...</td>\n",
       "      <td>talk</td>\n",
       "      <td>0</td>\n",
       "      <td>q00148</td>\n",
       "      <td>M</td>\n",
       "      <td>allen</td>\n",
       "    </tr>\n",
       "    <tr>\n",
       "      <th>1</th>\n",
       "      <td>2</td>\n",
       "      <td>Dcard</td>\n",
       "      <td>https://www.dcard.tw/f/talk/p/255935193</td>\n",
       "      <td>2024-06-23 23:14:11</td>\n",
       "      <td>在停車場正要離開時被車子擋住會怎樣</td>\n",
       "      <td>在停車場繳完費正要離開時有車主因為懶得走路把車子開到距離繳費機比較近的地方再下車繳費但他剛好...</td>\n",
       "      <td>talk</td>\n",
       "      <td>1</td>\n",
       "      <td>NaN</td>\n",
       "      <td>F</td>\n",
       "      <td>國立臺灣藝術大學</td>\n",
       "    </tr>\n",
       "    <tr>\n",
       "      <th>2</th>\n",
       "      <td>3</td>\n",
       "      <td>Dcard</td>\n",
       "      <td>https://www.dcard.tw/f/talk/p/255933439</td>\n",
       "      <td>2024-06-23 15:40:44</td>\n",
       "      <td>請問大家願意花多少錢去蜜月人呢</td>\n",
       "      <td>萬以下萬萬萬以上</td>\n",
       "      <td>talk</td>\n",
       "      <td>0</td>\n",
       "      <td>k9999303</td>\n",
       "      <td>M</td>\n",
       "      <td>一起看日出</td>\n",
       "    </tr>\n",
       "  </tbody>\n",
       "</table>\n",
       "</div>"
      ],
      "text/plain": [
       "  system_id dataSource                                   artUrl  \\\n",
       "0         1      Dcard  https://www.dcard.tw/f/talk/p/255935216   \n",
       "1         2      Dcard  https://www.dcard.tw/f/talk/p/255935193   \n",
       "2         3      Dcard  https://www.dcard.tw/f/talk/p/255933439   \n",
       "\n",
       "              artDate           artTitle  \\\n",
       "0 2024-06-23 23:26:22            睡到一半被酸醒   \n",
       "1 2024-06-23 23:14:11  在停車場正要離開時被車子擋住會怎樣   \n",
       "2 2024-06-23 15:40:44    請問大家願意花多少錢去蜜月人呢   \n",
       "\n",
       "                                          artContent boardID commentCount  \\\n",
       "0  有時候都會睡到半夜突然被右手臂酸醒而且是從手臂酸到右腳然後又有一種尿急的感覺完全沒有想尿尿整...    talk            0   \n",
       "1  在停車場繳完費正要離開時有車主因為懶得走路把車子開到距離繳費機比較近的地方再下車繳費但他剛好...    talk            1   \n",
       "2                                           萬以下萬萬萬以上    talk            0   \n",
       "\n",
       "  department gender    school  \n",
       "0     q00148      M     allen  \n",
       "1        NaN      F  國立臺灣藝術大學  \n",
       "2   k9999303      M     一起看日出  "
      ]
     },
     "execution_count": 5,
     "metadata": {},
     "output_type": "execute_result"
    }
   ],
   "source": [
    "# 過濾 nan 的資料\n",
    "udn = udn.dropna(subset=['artTitle'])\n",
    "udn = udn.dropna(subset=['artContent'])\n",
    "# 移除網址格式\n",
    "udn[\"artContent\"] = udn.artContent.apply(\n",
    "    lambda x: re.sub(\"(http|https)://.*\", \"\", x)\n",
    ")\n",
    "udn[\"artTitle\"] = udn[\"artTitle\"].apply(\n",
    "    lambda x: re.sub(\"(http|https)://.*\", \"\", x)\n",
    ")\n",
    "# 只留下中文字\n",
    "udn[\"artContent\"] = udn.artContent.apply(\n",
    "    lambda x: re.sub(\"[^\\u4e00-\\u9fa5]+\", \"\", x)\n",
    ")\n",
    "udn[\"artTitle\"] = udn[\"artTitle\"].apply(\n",
    "    lambda x: re.sub(\"[^\\u4e00-\\u9fa5]+\", \"\", x)\n",
    ")\n",
    "udn.head(3)"
   ]
  },
  {
   "cell_type": "markdown",
   "metadata": {},
   "source": [
    "整合標題和內文成新欄位content"
   ]
  },
  {
   "cell_type": "code",
   "execution_count": 6,
   "metadata": {},
   "outputs": [
    {
     "data": {
      "text/html": [
       "<div>\n",
       "<style scoped>\n",
       "    .dataframe tbody tr th:only-of-type {\n",
       "        vertical-align: middle;\n",
       "    }\n",
       "\n",
       "    .dataframe tbody tr th {\n",
       "        vertical-align: top;\n",
       "    }\n",
       "\n",
       "    .dataframe thead th {\n",
       "        text-align: right;\n",
       "    }\n",
       "</style>\n",
       "<table border=\"1\" class=\"dataframe\">\n",
       "  <thead>\n",
       "    <tr style=\"text-align: right;\">\n",
       "      <th></th>\n",
       "      <th>content</th>\n",
       "      <th>artUrl</th>\n",
       "      <th>boardID</th>\n",
       "    </tr>\n",
       "  </thead>\n",
       "  <tbody>\n",
       "    <tr>\n",
       "      <th>0</th>\n",
       "      <td>睡到一半被酸醒有時候都會睡到半夜突然被右手臂酸醒而且是從手臂酸到右腳然後又有一種尿急的感覺完...</td>\n",
       "      <td>https://www.dcard.tw/f/talk/p/255935216</td>\n",
       "      <td>talk</td>\n",
       "    </tr>\n",
       "    <tr>\n",
       "      <th>1</th>\n",
       "      <td>在停車場正要離開時被車子擋住會怎樣在停車場繳完費正要離開時有車主因為懶得走路把車子開到距離繳...</td>\n",
       "      <td>https://www.dcard.tw/f/talk/p/255935193</td>\n",
       "      <td>talk</td>\n",
       "    </tr>\n",
       "    <tr>\n",
       "      <th>2</th>\n",
       "      <td>請問大家願意花多少錢去蜜月人呢萬以下萬萬萬以上</td>\n",
       "      <td>https://www.dcard.tw/f/talk/p/255933439</td>\n",
       "      <td>talk</td>\n",
       "    </tr>\n",
       "    <tr>\n",
       "      <th>3</th>\n",
       "      <td>中山東門商圈廁所推薦不知道大家會不會在逛街的時候常常找不到廁所或是常常遇到很髒的廁所前幾天在...</td>\n",
       "      <td>https://www.dcard.tw/f/talk/p/255933530</td>\n",
       "      <td>talk</td>\n",
       "    </tr>\n",
       "    <tr>\n",
       "      <th>4</th>\n",
       "      <td>不喜歡機車約會我約會的時候都會認真打扮每次都花兩個小時化妝整理髮型所以真的很不喜歡坐機車尤其...</td>\n",
       "      <td>https://www.dcard.tw/f/talk/p/255933536</td>\n",
       "      <td>talk</td>\n",
       "    </tr>\n",
       "  </tbody>\n",
       "</table>\n",
       "</div>"
      ],
      "text/plain": [
       "                                             content  \\\n",
       "0  睡到一半被酸醒有時候都會睡到半夜突然被右手臂酸醒而且是從手臂酸到右腳然後又有一種尿急的感覺完...   \n",
       "1  在停車場正要離開時被車子擋住會怎樣在停車場繳完費正要離開時有車主因為懶得走路把車子開到距離繳...   \n",
       "2                            請問大家願意花多少錢去蜜月人呢萬以下萬萬萬以上   \n",
       "3  中山東門商圈廁所推薦不知道大家會不會在逛街的時候常常找不到廁所或是常常遇到很髒的廁所前幾天在...   \n",
       "4  不喜歡機車約會我約會的時候都會認真打扮每次都花兩個小時化妝整理髮型所以真的很不喜歡坐機車尤其...   \n",
       "\n",
       "                                    artUrl boardID  \n",
       "0  https://www.dcard.tw/f/talk/p/255935216    talk  \n",
       "1  https://www.dcard.tw/f/talk/p/255935193    talk  \n",
       "2  https://www.dcard.tw/f/talk/p/255933439    talk  \n",
       "3  https://www.dcard.tw/f/talk/p/255933530    talk  \n",
       "4  https://www.dcard.tw/f/talk/p/255933536    talk  "
      ]
     },
     "execution_count": 6,
     "metadata": {},
     "output_type": "execute_result"
    }
   ],
   "source": [
    "# 留下 content\n",
    "udn[\"content\"] = udn[\"artTitle\"] + udn[\"artContent\"]\n",
    "udn = udn[[\"content\", \"artUrl\", \"boardID\"]]  # 文章內容 文章連結\n",
    "udn.head()"
   ]
  },
  {
   "cell_type": "code",
   "execution_count": 7,
   "metadata": {},
   "outputs": [
    {
     "name": "stdout",
     "output_type": "stream",
     "text": [
      "total docs: 5897\n"
     ]
    }
   ],
   "source": [
    "print(f\"total docs: {udn.shape[0]}\")"
   ]
  },
  {
   "cell_type": "markdown",
   "metadata": {},
   "source": [
    "## 1.2斷詞"
   ]
  },
  {
   "cell_type": "code",
   "execution_count": 8,
   "metadata": {},
   "outputs": [],
   "source": [
    "# 設定繁體中文詞庫\n",
    "jieba.set_dictionary(\"./dict/dict.txt.big\")\n",
    "\n",
    "# 新增stopwords\n",
    "# jieba.analyse.set_stop_words('./dict/stop_words.txt') #jieba.analyse.extract_tags才會作用\n",
    "with open(\"./dict/stop_words.txt\", encoding=\"utf-8\") as f:\n",
    "    stopWords = [line.strip() for line in f.readlines()]"
   ]
  },
  {
   "cell_type": "code",
   "execution_count": 9,
   "metadata": {},
   "outputs": [],
   "source": [
    "# 設定斷詞 function\n",
    "def getToken(row):\n",
    "    seg_list = jieba.cut(row, cut_all=False)\n",
    "    seg_list = [\n",
    "        w for w in seg_list if w not in stopWords and len(w) > 1\n",
    "    ]  # 篩選掉停用字與字元數大於1的詞彙\n",
    "    return seg_list"
   ]
  },
  {
   "cell_type": "code",
   "execution_count": 10,
   "metadata": {},
   "outputs": [
    {
     "name": "stderr",
     "output_type": "stream",
     "text": [
      "Building prefix dict from c:\\Users\\a8184\\OneDrive\\桌面\\面試專案\\Dcard-posts-classification-main\\Dcard-posts-classification-main\\dict\\dict.txt.big ...\n",
      "Loading model from cache C:\\Users\\a8184\\AppData\\Local\\Temp\\jieba.u7361dca338b513e1f8a4ca3bea2f8f0a.cache\n",
      "Loading model cost 1.017 seconds.\n",
      "Prefix dict has been built successfully.\n"
     ]
    },
    {
     "data": {
      "text/html": [
       "<div>\n",
       "<style scoped>\n",
       "    .dataframe tbody tr th:only-of-type {\n",
       "        vertical-align: middle;\n",
       "    }\n",
       "\n",
       "    .dataframe tbody tr th {\n",
       "        vertical-align: top;\n",
       "    }\n",
       "\n",
       "    .dataframe thead th {\n",
       "        text-align: right;\n",
       "    }\n",
       "</style>\n",
       "<table border=\"1\" class=\"dataframe\">\n",
       "  <thead>\n",
       "    <tr style=\"text-align: right;\">\n",
       "      <th></th>\n",
       "      <th>content</th>\n",
       "      <th>artUrl</th>\n",
       "      <th>boardID</th>\n",
       "      <th>words</th>\n",
       "    </tr>\n",
       "  </thead>\n",
       "  <tbody>\n",
       "    <tr>\n",
       "      <th>0</th>\n",
       "      <td>睡到一半被酸醒有時候都會睡到半夜突然被右手臂酸醒而且是從手臂酸到右腳然後又有一種尿急的感覺完...</td>\n",
       "      <td>https://www.dcard.tw/f/talk/p/255935216</td>\n",
       "      <td>talk</td>\n",
       "      <td>一半 被酸醒 有時候 半夜 突然 手臂 酸醒 是從 手臂 酸到 右腳 一種 尿急 感覺 完全...</td>\n",
       "    </tr>\n",
       "    <tr>\n",
       "      <th>1</th>\n",
       "      <td>在停車場正要離開時被車子擋住會怎樣在停車場繳完費正要離開時有車主因為懶得走路把車子開到距離繳...</td>\n",
       "      <td>https://www.dcard.tw/f/talk/p/255935193</td>\n",
       "      <td>talk</td>\n",
       "      <td>停車場 正要 開時 車子 擋住 停車場 繳完費 正要 開時 車主 懶得 走路 車子 距離 繳...</td>\n",
       "    </tr>\n",
       "    <tr>\n",
       "      <th>2</th>\n",
       "      <td>請問大家願意花多少錢去蜜月人呢萬以下萬萬萬以上</td>\n",
       "      <td>https://www.dcard.tw/f/talk/p/255933439</td>\n",
       "      <td>talk</td>\n",
       "      <td>請問 願意 多少錢 蜜月 以下 萬萬 以上</td>\n",
       "    </tr>\n",
       "    <tr>\n",
       "      <th>3</th>\n",
       "      <td>中山東門商圈廁所推薦不知道大家會不會在逛街的時候常常找不到廁所或是常常遇到很髒的廁所前幾天在...</td>\n",
       "      <td>https://www.dcard.tw/f/talk/p/255933530</td>\n",
       "      <td>talk</td>\n",
       "      <td>中山 東門 商圈 廁所 推薦 知道 逛街 不到 廁所 遇到 很髒 廁所 幾天 中山 看到 有...</td>\n",
       "    </tr>\n",
       "    <tr>\n",
       "      <th>4</th>\n",
       "      <td>不喜歡機車約會我約會的時候都會認真打扮每次都花兩個小時化妝整理髮型所以真的很不喜歡坐機車尤其...</td>\n",
       "      <td>https://www.dcard.tw/f/talk/p/255933536</td>\n",
       "      <td>talk</td>\n",
       "      <td>喜歡 機車 約會 約會 認真 打扮 每次 兩個 小時 化妝 整理 髮型 真的 喜歡 機車 尤...</td>\n",
       "    </tr>\n",
       "  </tbody>\n",
       "</table>\n",
       "</div>"
      ],
      "text/plain": [
       "                                             content  \\\n",
       "0  睡到一半被酸醒有時候都會睡到半夜突然被右手臂酸醒而且是從手臂酸到右腳然後又有一種尿急的感覺完...   \n",
       "1  在停車場正要離開時被車子擋住會怎樣在停車場繳完費正要離開時有車主因為懶得走路把車子開到距離繳...   \n",
       "2                            請問大家願意花多少錢去蜜月人呢萬以下萬萬萬以上   \n",
       "3  中山東門商圈廁所推薦不知道大家會不會在逛街的時候常常找不到廁所或是常常遇到很髒的廁所前幾天在...   \n",
       "4  不喜歡機車約會我約會的時候都會認真打扮每次都花兩個小時化妝整理髮型所以真的很不喜歡坐機車尤其...   \n",
       "\n",
       "                                    artUrl boardID  \\\n",
       "0  https://www.dcard.tw/f/talk/p/255935216    talk   \n",
       "1  https://www.dcard.tw/f/talk/p/255935193    talk   \n",
       "2  https://www.dcard.tw/f/talk/p/255933439    talk   \n",
       "3  https://www.dcard.tw/f/talk/p/255933530    talk   \n",
       "4  https://www.dcard.tw/f/talk/p/255933536    talk   \n",
       "\n",
       "                                               words  \n",
       "0  一半 被酸醒 有時候 半夜 突然 手臂 酸醒 是從 手臂 酸到 右腳 一種 尿急 感覺 完全...  \n",
       "1  停車場 正要 開時 車子 擋住 停車場 繳完費 正要 開時 車主 懶得 走路 車子 距離 繳...  \n",
       "2                              請問 願意 多少錢 蜜月 以下 萬萬 以上  \n",
       "3  中山 東門 商圈 廁所 推薦 知道 逛街 不到 廁所 遇到 很髒 廁所 幾天 中山 看到 有...  \n",
       "4  喜歡 機車 約會 約會 認真 打扮 每次 兩個 小時 化妝 整理 髮型 真的 喜歡 機車 尤...  "
      ]
     },
     "execution_count": 10,
     "metadata": {},
     "output_type": "execute_result"
    }
   ],
   "source": [
    "udn[\"words\"] = udn[\"content\"].apply(getToken).map(\" \".join)\n",
    "udn.head()"
   ]
  },
  {
   "cell_type": "code",
   "execution_count": 11,
   "metadata": {},
   "outputs": [
    {
     "name": "stdout",
     "output_type": "stream",
     "text": [
      "total posts: 5897\n",
      "category: \n",
      "boardID\n",
      "relationship    2216\n",
      "mood            2119\n",
      "talk            1562\n",
      "Name: count, dtype: int64\n"
     ]
    }
   ],
   "source": [
    "print(f\"total posts: {len(udn['artUrl'].unique())}\")\n",
    "print(f\"category: \\n{udn['boardID'].value_counts()}\")\n"
   ]
  },
  {
   "cell_type": "markdown",
   "metadata": {},
   "source": [
    "# 2. 訓練分類器"
   ]
  },
  {
   "cell_type": "markdown",
   "metadata": {},
   "source": [
    "## 2.1 切分資料 7:3"
   ]
  },
  {
   "cell_type": "code",
   "execution_count": 12,
   "metadata": {},
   "outputs": [
    {
     "name": "stdout",
     "output_type": "stream",
     "text": [
      "3431                 智障 網美 拜託 哪有 白癡 網美會 介紹 紅色 還套 濾鏡 阿是 智障\n",
      "3301    死後才 想起 曾經 答應 一起 散步 首歌 去年 演唱會 阿尼對 爸爸 真情 告白 知道 聽...\n",
      "5795                        美女 標配 美女 眼睛 比較 重要 鼻子 比較 重要 部分\n",
      "3193    該不該 再給 一次 機會 曾經 工作 飯店 受到 不小 迫害 主管 刁難 針對 資料 辦公室...\n",
      "4299    天蠍 男愛 吃醋 認識 一位 天蠍 之間 有點 曖昧 分享 一位 喜歡 旁聽 覺得 神秘 試...\n",
      "Name: words, dtype: object\n",
      "3431            mood\n",
      "3301            mood\n",
      "5795            talk\n",
      "3193            mood\n",
      "4299    relationship\n",
      "Name: boardID, dtype: object\n"
     ]
    }
   ],
   "source": [
    "data = udn\n",
    "X = data[\"words\"]\n",
    "y = data[\"boardID\"]\n",
    "\n",
    "# 把整個資料集七三切\n",
    "X_train, X_test, y_train, y_test = train_test_split(\n",
    "    X, y, test_size=0.3, random_state=777\n",
    ")\n",
    "\n",
    "print(X_train.head())\n",
    "print(y_train.head())"
   ]
  },
  {
   "cell_type": "code",
   "execution_count": 13,
   "metadata": {},
   "outputs": [
    {
     "name": "stdout",
     "output_type": "stream",
     "text": [
      "raw data percentage :\n",
      "boardID\n",
      "relationship    37.578430\n",
      "mood            35.933526\n",
      "talk            26.488045\n",
      "Name: proportion, dtype: float64\n",
      "\n",
      "train percentage :\n",
      "boardID\n",
      "relationship    38.114853\n",
      "mood            35.909862\n",
      "talk            25.975285\n",
      "Name: proportion, dtype: float64\n",
      "\n",
      "test percentage :\n",
      "boardID\n",
      "relationship    36.327684\n",
      "mood            35.988701\n",
      "talk            27.683616\n",
      "Name: proportion, dtype: float64\n"
     ]
    }
   ],
   "source": [
    "# 看一下各個資料集切分的比例\n",
    "print(\n",
    "    f\"raw data percentage :\\n{data['boardID'].value_counts(normalize=True) * 100}\"\n",
    ")\n",
    "print(f\"\\ntrain percentage :\\n{y_train.value_counts(normalize=True) * 100}\")\n",
    "print(f\"\\ntest percentage :\\n{y_test.value_counts(normalize=True) * 100}\")"
   ]
  },
  {
   "cell_type": "markdown",
   "metadata": {},
   "source": [
    "## 2.2 轉DTM"
   ]
  },
  {
   "cell_type": "code",
   "execution_count": 14,
   "metadata": {},
   "outputs": [
    {
     "data": {
      "text/plain": [
       "array([0.        , 0.        , 0.        , 0.        , 0.        ,\n",
       "       0.        , 0.        , 0.        , 0.        , 0.        ,\n",
       "       0.        , 0.        , 0.        , 0.        , 0.        ,\n",
       "       0.        , 0.        , 0.        , 0.        , 0.        ,\n",
       "       0.        , 0.        , 0.        , 0.        , 0.        ,\n",
       "       0.        , 0.        , 0.        , 0.        , 0.        ,\n",
       "       0.        , 0.        , 0.        , 0.        , 0.        ,\n",
       "       0.        , 0.        , 0.        , 0.        , 0.        ,\n",
       "       0.        , 0.        , 0.        , 0.        , 0.        ,\n",
       "       0.        , 0.        , 0.        , 0.        , 0.        ,\n",
       "       0.        , 0.        , 0.        , 0.        , 0.        ,\n",
       "       0.        , 0.        , 0.        , 0.        , 0.        ,\n",
       "       0.        , 0.        , 0.        , 0.        , 0.        ,\n",
       "       0.        , 0.        , 0.        , 0.        , 0.        ,\n",
       "       0.        , 0.        , 0.        , 0.        , 0.        ,\n",
       "       0.        , 0.        , 0.        , 0.        , 0.        ,\n",
       "       0.        , 0.        , 0.        , 0.        , 0.        ,\n",
       "       0.        , 0.        , 0.        , 0.        , 0.72153695,\n",
       "       0.        , 0.        , 0.        , 0.        , 0.        ,\n",
       "       0.        , 0.        , 0.        , 0.        , 0.        ,\n",
       "       0.        , 0.        , 0.        , 0.        , 0.        ,\n",
       "       0.        , 0.        , 0.        , 0.        , 0.        ,\n",
       "       0.        , 0.        , 0.        , 0.        , 0.        ,\n",
       "       0.        , 0.        , 0.        , 0.        , 0.        ,\n",
       "       0.        , 0.        , 0.        , 0.        , 0.        ,\n",
       "       0.        , 0.        , 0.        , 0.        , 0.        ,\n",
       "       0.        , 0.        , 0.        , 0.        , 0.        ,\n",
       "       0.        , 0.        , 0.        , 0.        , 0.        ,\n",
       "       0.        , 0.        , 0.        , 0.        , 0.        ,\n",
       "       0.        , 0.        , 0.        , 0.        , 0.        ,\n",
       "       0.        , 0.        , 0.        , 0.        , 0.        ,\n",
       "       0.        , 0.        , 0.        , 0.        , 0.        ,\n",
       "       0.        , 0.        , 0.        , 0.        , 0.        ,\n",
       "       0.        , 0.        , 0.        , 0.        , 0.        ,\n",
       "       0.        , 0.        , 0.        , 0.        , 0.        ,\n",
       "       0.        , 0.        , 0.        , 0.        , 0.        ,\n",
       "       0.        , 0.        , 0.        , 0.        , 0.        ,\n",
       "       0.        , 0.        , 0.        , 0.        , 0.        ,\n",
       "       0.        , 0.        , 0.        , 0.        , 0.        ,\n",
       "       0.        , 0.        , 0.        , 0.        , 0.        ,\n",
       "       0.        , 0.        , 0.        , 0.        , 0.        ,\n",
       "       0.        , 0.        , 0.        , 0.        , 0.        ,\n",
       "       0.        , 0.        , 0.        , 0.        , 0.        ,\n",
       "       0.        , 0.        , 0.        , 0.        , 0.        ,\n",
       "       0.        , 0.        , 0.        , 0.        , 0.        ,\n",
       "       0.        , 0.        , 0.        , 0.        , 0.        ,\n",
       "       0.        , 0.        , 0.        , 0.        , 0.        ,\n",
       "       0.        , 0.        , 0.        , 0.        , 0.        ,\n",
       "       0.        , 0.        , 0.        , 0.        , 0.        ,\n",
       "       0.        , 0.        , 0.        , 0.        , 0.        ,\n",
       "       0.        , 0.        , 0.        , 0.        , 0.        ,\n",
       "       0.        , 0.        , 0.        , 0.        , 0.        ,\n",
       "       0.        , 0.        , 0.        , 0.        , 0.        ,\n",
       "       0.        , 0.        , 0.        , 0.        , 0.        ,\n",
       "       0.        , 0.        , 0.        , 0.        , 0.        ,\n",
       "       0.        , 0.        , 0.        , 0.        , 0.        ,\n",
       "       0.        , 0.        , 0.        , 0.        , 0.        ,\n",
       "       0.        , 0.        , 0.        , 0.        , 0.        ,\n",
       "       0.        , 0.        , 0.        , 0.        , 0.        ,\n",
       "       0.        , 0.        , 0.        , 0.        , 0.        ,\n",
       "       0.        , 0.        , 0.        , 0.        , 0.        ,\n",
       "       0.        , 0.        , 0.        , 0.        , 0.        ,\n",
       "       0.        , 0.        , 0.        , 0.        , 0.        ,\n",
       "       0.        , 0.        , 0.        , 0.        , 0.        ,\n",
       "       0.        , 0.        , 0.        , 0.        , 0.        ,\n",
       "       0.        , 0.        , 0.        , 0.        , 0.        ,\n",
       "       0.        , 0.        , 0.        , 0.        , 0.        ,\n",
       "       0.        , 0.        , 0.        , 0.        , 0.        ,\n",
       "       0.        , 0.        , 0.        , 0.        , 0.        ,\n",
       "       0.        , 0.        , 0.        , 0.        , 0.        ,\n",
       "       0.        , 0.        , 0.        , 0.        , 0.        ,\n",
       "       0.        , 0.        , 0.        , 0.        , 0.        ,\n",
       "       0.        , 0.        , 0.        , 0.        , 0.        ,\n",
       "       0.        , 0.        , 0.        , 0.        , 0.        ,\n",
       "       0.        , 0.        , 0.        , 0.        , 0.        ,\n",
       "       0.        , 0.        , 0.        , 0.        , 0.        ,\n",
       "       0.        , 0.        , 0.        , 0.        , 0.        ,\n",
       "       0.        , 0.        , 0.        , 0.        , 0.        ,\n",
       "       0.        , 0.        , 0.        , 0.        , 0.        ,\n",
       "       0.        , 0.        , 0.        , 0.        , 0.        ,\n",
       "       0.        , 0.        , 0.        , 0.        , 0.        ,\n",
       "       0.        , 0.        , 0.        , 0.        , 0.        ,\n",
       "       0.        , 0.        , 0.        , 0.        , 0.        ,\n",
       "       0.        , 0.        , 0.        , 0.        , 0.        ,\n",
       "       0.        , 0.        , 0.        , 0.        , 0.        ,\n",
       "       0.        , 0.        , 0.        , 0.        , 0.        ,\n",
       "       0.        , 0.        , 0.        , 0.        , 0.        ,\n",
       "       0.        , 0.        , 0.        , 0.        , 0.        ,\n",
       "       0.        , 0.        , 0.        , 0.        , 0.        ,\n",
       "       0.        , 0.        , 0.        , 0.        , 0.        ,\n",
       "       0.        , 0.        , 0.        , 0.        , 0.        ,\n",
       "       0.        , 0.        , 0.        , 0.        , 0.        ,\n",
       "       0.        , 0.        , 0.        , 0.        , 0.        ,\n",
       "       0.        , 0.        , 0.        , 0.        , 0.        ,\n",
       "       0.        , 0.        , 0.        , 0.        , 0.        ,\n",
       "       0.        , 0.        , 0.        , 0.        , 0.        ,\n",
       "       0.        , 0.        , 0.        , 0.        , 0.        ,\n",
       "       0.        , 0.        , 0.        , 0.        , 0.        ,\n",
       "       0.        , 0.69237593, 0.        , 0.        , 0.        ,\n",
       "       0.        , 0.        , 0.        , 0.        , 0.        ,\n",
       "       0.        , 0.        , 0.        , 0.        , 0.        ,\n",
       "       0.        , 0.        , 0.        , 0.        , 0.        ,\n",
       "       0.        , 0.        , 0.        , 0.        , 0.        ,\n",
       "       0.        , 0.        , 0.        , 0.        , 0.        ,\n",
       "       0.        , 0.        , 0.        , 0.        , 0.        ,\n",
       "       0.        , 0.        , 0.        , 0.        , 0.        ,\n",
       "       0.        , 0.        , 0.        , 0.        , 0.        ,\n",
       "       0.        , 0.        , 0.        , 0.        , 0.        ,\n",
       "       0.        , 0.        , 0.        , 0.        , 0.        ,\n",
       "       0.        , 0.        , 0.        , 0.        , 0.        ,\n",
       "       0.        , 0.        , 0.        , 0.        , 0.        ,\n",
       "       0.        , 0.        , 0.        , 0.        , 0.        ,\n",
       "       0.        , 0.        , 0.        , 0.        , 0.        ,\n",
       "       0.        , 0.        , 0.        , 0.        , 0.        ,\n",
       "       0.        , 0.        , 0.        , 0.        , 0.        ,\n",
       "       0.        , 0.        , 0.        , 0.        , 0.        ,\n",
       "       0.        , 0.        , 0.        , 0.        , 0.        ,\n",
       "       0.        , 0.        , 0.        , 0.        , 0.        ,\n",
       "       0.        , 0.        , 0.        , 0.        , 0.        ,\n",
       "       0.        , 0.        , 0.        , 0.        , 0.        ,\n",
       "       0.        , 0.        , 0.        , 0.        , 0.        ,\n",
       "       0.        , 0.        , 0.        , 0.        , 0.        ,\n",
       "       0.        , 0.        , 0.        , 0.        , 0.        ,\n",
       "       0.        , 0.        , 0.        , 0.        , 0.        ,\n",
       "       0.        , 0.        , 0.        , 0.        , 0.        ,\n",
       "       0.        , 0.        , 0.        , 0.        , 0.        ,\n",
       "       0.        , 0.        , 0.        , 0.        , 0.        ,\n",
       "       0.        , 0.        , 0.        , 0.        , 0.        ,\n",
       "       0.        , 0.        , 0.        , 0.        , 0.        ,\n",
       "       0.        , 0.        , 0.        , 0.        , 0.        ,\n",
       "       0.        , 0.        , 0.        , 0.        , 0.        ,\n",
       "       0.        , 0.        , 0.        , 0.        , 0.        ,\n",
       "       0.        , 0.        , 0.        , 0.        , 0.        ,\n",
       "       0.        , 0.        , 0.        , 0.        , 0.        ,\n",
       "       0.        , 0.        , 0.        , 0.        , 0.        ,\n",
       "       0.        , 0.        , 0.        , 0.        , 0.        ,\n",
       "       0.        , 0.        , 0.        , 0.        , 0.        ,\n",
       "       0.        , 0.        , 0.        , 0.        , 0.        ,\n",
       "       0.        , 0.        , 0.        , 0.        , 0.        ,\n",
       "       0.        , 0.        , 0.        , 0.        , 0.        ,\n",
       "       0.        , 0.        , 0.        , 0.        , 0.        ,\n",
       "       0.        , 0.        , 0.        , 0.        , 0.        ,\n",
       "       0.        , 0.        , 0.        , 0.        , 0.        ,\n",
       "       0.        , 0.        , 0.        , 0.        , 0.        ,\n",
       "       0.        , 0.        , 0.        , 0.        , 0.        ,\n",
       "       0.        , 0.        , 0.        , 0.        , 0.        ,\n",
       "       0.        , 0.        , 0.        , 0.        , 0.        ,\n",
       "       0.        , 0.        , 0.        , 0.        , 0.        ,\n",
       "       0.        , 0.        , 0.        , 0.        , 0.        ,\n",
       "       0.        , 0.        , 0.        , 0.        , 0.        ,\n",
       "       0.        , 0.        , 0.        , 0.        , 0.        ,\n",
       "       0.        , 0.        , 0.        , 0.        , 0.        ,\n",
       "       0.        , 0.        , 0.        , 0.        , 0.        ,\n",
       "       0.        , 0.        , 0.        , 0.        , 0.        ,\n",
       "       0.        , 0.        , 0.        , 0.        , 0.        ,\n",
       "       0.        , 0.        , 0.        , 0.        , 0.        ,\n",
       "       0.        , 0.        , 0.        , 0.        , 0.        ,\n",
       "       0.        , 0.        , 0.        , 0.        , 0.        ,\n",
       "       0.        , 0.        , 0.        , 0.        , 0.        ,\n",
       "       0.        , 0.        , 0.        , 0.        , 0.        ,\n",
       "       0.        , 0.        , 0.        , 0.        , 0.        ,\n",
       "       0.        , 0.        , 0.        , 0.        , 0.        ,\n",
       "       0.        , 0.        , 0.        , 0.        , 0.        ,\n",
       "       0.        , 0.        , 0.        , 0.        , 0.        ,\n",
       "       0.        , 0.        , 0.        , 0.        , 0.        ,\n",
       "       0.        , 0.        , 0.        , 0.        , 0.        ,\n",
       "       0.        , 0.        , 0.        , 0.        , 0.        ,\n",
       "       0.        , 0.        , 0.        , 0.        , 0.        ,\n",
       "       0.        , 0.        , 0.        , 0.        , 0.        ,\n",
       "       0.        , 0.        , 0.        , 0.        , 0.        ,\n",
       "       0.        , 0.        , 0.        , 0.        , 0.        ,\n",
       "       0.        , 0.        , 0.        , 0.        , 0.        ,\n",
       "       0.        , 0.        , 0.        , 0.        , 0.        ,\n",
       "       0.        , 0.        , 0.        , 0.        , 0.        ,\n",
       "       0.        , 0.        , 0.        , 0.        , 0.        ,\n",
       "       0.        , 0.        , 0.        , 0.        , 0.        ,\n",
       "       0.        , 0.        , 0.        , 0.        , 0.        ,\n",
       "       0.        , 0.        , 0.        , 0.        , 0.        ,\n",
       "       0.        , 0.        , 0.        , 0.        , 0.        ,\n",
       "       0.        , 0.        , 0.        , 0.        , 0.        ,\n",
       "       0.        , 0.        , 0.        , 0.        , 0.        ,\n",
       "       0.        , 0.        , 0.        , 0.        , 0.        ,\n",
       "       0.        , 0.        , 0.        , 0.        , 0.        ,\n",
       "       0.        , 0.        , 0.        , 0.        , 0.        ,\n",
       "       0.        , 0.        , 0.        , 0.        , 0.        ,\n",
       "       0.        , 0.        , 0.        , 0.        , 0.        ,\n",
       "       0.        , 0.        , 0.        , 0.        , 0.        ,\n",
       "       0.        , 0.        , 0.        , 0.        , 0.        ,\n",
       "       0.        , 0.        , 0.        , 0.        , 0.        ,\n",
       "       0.        , 0.        , 0.        , 0.        , 0.        ,\n",
       "       0.        , 0.        , 0.        , 0.        , 0.        ,\n",
       "       0.        , 0.        , 0.        , 0.        , 0.        ,\n",
       "       0.        , 0.        , 0.        , 0.        , 0.        ,\n",
       "       0.        , 0.        , 0.        , 0.        , 0.        ,\n",
       "       0.        , 0.        , 0.        , 0.        , 0.        ,\n",
       "       0.        , 0.        , 0.        , 0.        , 0.        ,\n",
       "       0.        , 0.        , 0.        , 0.        , 0.        ,\n",
       "       0.        , 0.        , 0.        , 0.        , 0.        ,\n",
       "       0.        , 0.        , 0.        , 0.        , 0.        ,\n",
       "       0.        , 0.        , 0.        , 0.        , 0.        ])"
      ]
     },
     "execution_count": 14,
     "metadata": {},
     "output_type": "execute_result"
    }
   ],
   "source": [
    "vectorizer = TfidfVectorizer(max_features=1000)\n",
    "vec_train = vectorizer.fit_transform(X_train)\n",
    "vec_test = vectorizer.transform(X_test)\n",
    "vec_train.toarray()[0,:]"
   ]
  },
  {
   "cell_type": "markdown",
   "metadata": {},
   "source": [
    "### 先用 LogisticRegression 建立分類器"
   ]
  },
  {
   "cell_type": "code",
   "execution_count": 15,
   "metadata": {},
   "outputs": [
    {
     "data": {
      "text/html": [
       "<style>#sk-container-id-1 {color: black;}#sk-container-id-1 pre{padding: 0;}#sk-container-id-1 div.sk-toggleable {background-color: white;}#sk-container-id-1 label.sk-toggleable__label {cursor: pointer;display: block;width: 100%;margin-bottom: 0;padding: 0.3em;box-sizing: border-box;text-align: center;}#sk-container-id-1 label.sk-toggleable__label-arrow:before {content: \"▸\";float: left;margin-right: 0.25em;color: #696969;}#sk-container-id-1 label.sk-toggleable__label-arrow:hover:before {color: black;}#sk-container-id-1 div.sk-estimator:hover label.sk-toggleable__label-arrow:before {color: black;}#sk-container-id-1 div.sk-toggleable__content {max-height: 0;max-width: 0;overflow: hidden;text-align: left;background-color: #f0f8ff;}#sk-container-id-1 div.sk-toggleable__content pre {margin: 0.2em;color: black;border-radius: 0.25em;background-color: #f0f8ff;}#sk-container-id-1 input.sk-toggleable__control:checked~div.sk-toggleable__content {max-height: 200px;max-width: 100%;overflow: auto;}#sk-container-id-1 input.sk-toggleable__control:checked~label.sk-toggleable__label-arrow:before {content: \"▾\";}#sk-container-id-1 div.sk-estimator input.sk-toggleable__control:checked~label.sk-toggleable__label {background-color: #d4ebff;}#sk-container-id-1 div.sk-label input.sk-toggleable__control:checked~label.sk-toggleable__label {background-color: #d4ebff;}#sk-container-id-1 input.sk-hidden--visually {border: 0;clip: rect(1px 1px 1px 1px);clip: rect(1px, 1px, 1px, 1px);height: 1px;margin: -1px;overflow: hidden;padding: 0;position: absolute;width: 1px;}#sk-container-id-1 div.sk-estimator {font-family: monospace;background-color: #f0f8ff;border: 1px dotted black;border-radius: 0.25em;box-sizing: border-box;margin-bottom: 0.5em;}#sk-container-id-1 div.sk-estimator:hover {background-color: #d4ebff;}#sk-container-id-1 div.sk-parallel-item::after {content: \"\";width: 100%;border-bottom: 1px solid gray;flex-grow: 1;}#sk-container-id-1 div.sk-label:hover label.sk-toggleable__label {background-color: #d4ebff;}#sk-container-id-1 div.sk-serial::before {content: \"\";position: absolute;border-left: 1px solid gray;box-sizing: border-box;top: 0;bottom: 0;left: 50%;z-index: 0;}#sk-container-id-1 div.sk-serial {display: flex;flex-direction: column;align-items: center;background-color: white;padding-right: 0.2em;padding-left: 0.2em;position: relative;}#sk-container-id-1 div.sk-item {position: relative;z-index: 1;}#sk-container-id-1 div.sk-parallel {display: flex;align-items: stretch;justify-content: center;background-color: white;position: relative;}#sk-container-id-1 div.sk-item::before, #sk-container-id-1 div.sk-parallel-item::before {content: \"\";position: absolute;border-left: 1px solid gray;box-sizing: border-box;top: 0;bottom: 0;left: 50%;z-index: -1;}#sk-container-id-1 div.sk-parallel-item {display: flex;flex-direction: column;z-index: 1;position: relative;background-color: white;}#sk-container-id-1 div.sk-parallel-item:first-child::after {align-self: flex-end;width: 50%;}#sk-container-id-1 div.sk-parallel-item:last-child::after {align-self: flex-start;width: 50%;}#sk-container-id-1 div.sk-parallel-item:only-child::after {width: 0;}#sk-container-id-1 div.sk-dashed-wrapped {border: 1px dashed gray;margin: 0 0.4em 0.5em 0.4em;box-sizing: border-box;padding-bottom: 0.4em;background-color: white;}#sk-container-id-1 div.sk-label label {font-family: monospace;font-weight: bold;display: inline-block;line-height: 1.2em;}#sk-container-id-1 div.sk-label-container {text-align: center;}#sk-container-id-1 div.sk-container {/* jupyter's `normalize.less` sets `[hidden] { display: none; }` but bootstrap.min.css set `[hidden] { display: none !important; }` so we also need the `!important` here to be able to override the default hidden behavior on the sphinx rendered scikit-learn.org. See: https://github.com/scikit-learn/scikit-learn/issues/21755 */display: inline-block !important;position: relative;}#sk-container-id-1 div.sk-text-repr-fallback {display: none;}</style><div id=\"sk-container-id-1\" class=\"sk-top-container\"><div class=\"sk-text-repr-fallback\"><pre>LogisticRegression()</pre><b>In a Jupyter environment, please rerun this cell to show the HTML representation or trust the notebook. <br />On GitHub, the HTML representation is unable to render, please try loading this page with nbviewer.org.</b></div><div class=\"sk-container\" hidden><div class=\"sk-item\"><div class=\"sk-estimator sk-toggleable\"><input class=\"sk-toggleable__control sk-hidden--visually\" id=\"sk-estimator-id-1\" type=\"checkbox\" checked><label for=\"sk-estimator-id-1\" class=\"sk-toggleable__label sk-toggleable__label-arrow\">LogisticRegression</label><div class=\"sk-toggleable__content\"><pre>LogisticRegression()</pre></div></div></div></div></div>"
      ],
      "text/plain": [
       "LogisticRegression()"
      ]
     },
     "execution_count": 15,
     "metadata": {},
     "output_type": "execute_result"
    }
   ],
   "source": [
    "# 建立分類器模型\n",
    "clf = LogisticRegression()\n",
    "clf.fit(vec_train, y_train)\n",
    "clf"
   ]
  },
  {
   "cell_type": "code",
   "execution_count": 16,
   "metadata": {},
   "outputs": [
    {
     "data": {
      "text/plain": [
       "array(['mood', 'relationship', 'talk'], dtype=object)"
      ]
     },
     "execution_count": 16,
     "metadata": {},
     "output_type": "execute_result"
    }
   ],
   "source": [
    "clf.classes_"
   ]
  },
  {
   "cell_type": "code",
   "execution_count": 17,
   "metadata": {},
   "outputs": [
    {
     "name": "stdout",
     "output_type": "stream",
     "text": [
      "              precision    recall  f1-score   support\n",
      "\n",
      "        mood       0.61      0.63      0.62       637\n",
      "relationship       0.74      0.80      0.77       643\n",
      "        talk       0.66      0.56      0.61       490\n",
      "\n",
      "    accuracy                           0.67      1770\n",
      "   macro avg       0.67      0.66      0.67      1770\n",
      "weighted avg       0.67      0.67      0.67      1770\n",
      "\n"
     ]
    }
   ],
   "source": [
    "clf.fit(vec_train, y_train)\n",
    "y_pred = clf.predict(vec_test)\n",
    "y_pred_proba = clf.predict_proba(vec_test)\n",
    "\n",
    "# results\n",
    "## Accuracy, Precision, Recall, F1-score\n",
    "print(classification_report(y_test, y_pred))"
   ]
  },
  {
   "cell_type": "markdown",
   "metadata": {},
   "source": [
    "### Cross-Vaiodation"
   ]
  },
  {
   "cell_type": "code",
   "execution_count": 18,
   "metadata": {},
   "outputs": [
    {
     "name": "stdout",
     "output_type": "stream",
     "text": [
      "{'estimator': [LogisticRegression(),\n",
      "               LogisticRegression(),\n",
      "               LogisticRegression()],\n",
      " 'fit_time': array([0.05853033, 0.06854415, 0.07760692]),\n",
      " 'score_time': array([0.02506518, 0.02211165, 0.02200198]),\n",
      " 'test_f1_macro': array([0.65782584, 0.61919924, 0.63025076]),\n",
      " 'test_precision_macro': array([0.66001772, 0.61998473, 0.63294794]),\n",
      " 'test_recall_macro': array([0.65666784, 0.61854614, 0.62857266])}\n"
     ]
    }
   ],
   "source": [
    "clf = LogisticRegression()\n",
    "vec_train = TfidfVectorizer(max_features=500).fit_transform(X_train)\n",
    "\n",
    "scores = cross_validate(clf, vec_train, y_train, cv=3, scoring=(\"f1_macro\", \"recall_macro\", \"precision_macro\"), return_estimator=True)\n",
    "pprint(scores)"
   ]
  },
  {
   "cell_type": "code",
   "execution_count": 19,
   "metadata": {},
   "outputs": [
    {
     "name": "stdout",
     "output_type": "stream",
     "text": [
      "              precision    recall  f1-score   support\n",
      "\n",
      "        mood       0.59      0.62      0.60      1482\n",
      "relationship       0.75      0.75      0.75      1573\n",
      "        talk       0.57      0.54      0.56      1072\n",
      "\n",
      "    accuracy                           0.65      4127\n",
      "   macro avg       0.64      0.63      0.64      4127\n",
      "weighted avg       0.65      0.65      0.65      4127\n",
      "\n"
     ]
    }
   ],
   "source": [
    "y_pred = cross_val_predict(clf, vec_train, y_train, cv=3)\n",
    "print(classification_report(y_train, y_pred))"
   ]
  },
  {
   "cell_type": "markdown",
   "metadata": {},
   "source": [
    "# 3 比較不同模型效果"
   ]
  },
  {
   "cell_type": "code",
   "execution_count": 20,
   "metadata": {},
   "outputs": [],
   "source": [
    "# 定義模型訓練組合\n",
    "## pipeline: 資料處理 vectorizer + 分類器 clf\n",
    "## 由於 cross-validation 會自動將資料分成 train/test，因此 input 只要給 X, y 即可\n",
    "\n",
    "def train_cv(vectorizer, clf, X, y):\n",
    "\n",
    "    ## train classifier\n",
    "    vec_X = vectorizer.fit_transform(X).toarray()\n",
    "    \n",
    "    ## get cv results\n",
    "    cv_results = cross_validate(clf, vec_X, y, cv=5, return_estimator=True)\n",
    "    y_pred = cross_val_predict(clf, vec_X, y, cv=5)\n",
    "    y_pred_proba = cross_val_predict(clf, vec_X, y, cv=5, method=\"predict_proba\")\n",
    "    \n",
    "    ## Accuracy, Precision, Recall, F1-score\n",
    "    cls_report = classification_report(y, y_pred, output_dict=True)\n",
    "    print(classification_report(y, y_pred))\n",
    "\n",
    "    classes = cv_results['estimator'][0].classes_\n",
    "    \n",
    "    ## Plot confusion matrix\n",
    "    cm = confusion_matrix(y, y_pred)\n",
    "    fig, ax = plt.subplots()\n",
    "    sns.heatmap(cm, annot=True, fmt=\"d\", ax=ax, cmap=plt.cm.Blues, cbar=False)\n",
    "    ax.set(\n",
    "        xlabel=\"Pred\",\n",
    "        ylabel=\"True\",\n",
    "        xticklabels=classes,\n",
    "        yticklabels=classes,\n",
    "        title= str(clf) + \"Confusion matrix\",\n",
    "    )\n",
    "    plt.yticks(rotation=0)\n",
    "\n",
    "    clf.fit(vec_X, y)\n",
    "    # return the model object\n",
    "    return cls_report"
   ]
  },
  {
   "cell_type": "code",
   "execution_count": 21,
   "metadata": {},
   "outputs": [
    {
     "name": "stdout",
     "output_type": "stream",
     "text": [
      "====================================================================================================\n",
      "now training: clf_logistic\n",
      "              precision    recall  f1-score   support\n",
      "\n",
      "        mood       0.60      0.62      0.61      1482\n",
      "relationship       0.75      0.76      0.76      1573\n",
      "        talk       0.59      0.55      0.57      1072\n",
      "\n",
      "    accuracy                           0.66      4127\n",
      "   macro avg       0.65      0.64      0.64      4127\n",
      "weighted avg       0.65      0.66      0.65      4127\n",
      "\n",
      "====================================================================================================\n",
      "====================================================================================================\n",
      "now training: clf_dtree\n",
      "              precision    recall  f1-score   support\n",
      "\n",
      "        mood       0.48      0.46      0.47      1482\n",
      "relationship       0.64      0.62      0.63      1573\n",
      "        talk       0.46      0.50      0.48      1072\n",
      "\n",
      "    accuracy                           0.53      4127\n",
      "   macro avg       0.53      0.53      0.53      4127\n",
      "weighted avg       0.54      0.53      0.53      4127\n",
      "\n",
      "====================================================================================================\n",
      "====================================================================================================\n",
      "now training: clf_svm\n",
      "              precision    recall  f1-score   support\n",
      "\n",
      "        mood       0.59      0.67      0.63      1482\n",
      "relationship       0.76      0.76      0.76      1573\n",
      "        talk       0.63      0.52      0.57      1072\n",
      "\n",
      "    accuracy                           0.66      4127\n",
      "   macro avg       0.66      0.65      0.65      4127\n",
      "weighted avg       0.67      0.66      0.66      4127\n",
      "\n",
      "====================================================================================================\n",
      "====================================================================================================\n",
      "now training: clf_rf\n",
      "              precision    recall  f1-score   support\n",
      "\n",
      "        mood       0.62      0.58      0.60      1482\n",
      "relationship       0.71      0.81      0.76      1573\n",
      "        talk       0.59      0.51      0.55      1072\n",
      "\n",
      "    accuracy                           0.65      4127\n",
      "   macro avg       0.64      0.64      0.64      4127\n",
      "weighted avg       0.65      0.65      0.65      4127\n",
      "\n",
      "====================================================================================================\n"
     ]
    },
    {
     "data": {
      "image/png": "[encoded data removed]",
      "text/plain": [
       "<Figure size 640x480 with 1 Axes>"
      ]
     },
     "metadata": {},
     "output_type": "display_data"
    },
    {
     "data": {
      "image/png": "[encoded data removed]",
      "text/plain": [
       "<Figure size 640x480 with 1 Axes>"
      ]
     },
     "metadata": {},
     "output_type": "display_data"
    },
    {
     "data": {
      "image/png": "[encoded data removed]",
      "text/plain": [
       "<Figure size 640x480 with 1 Axes>"
      ]
     },
     "metadata": {},
     "output_type": "display_data"
    },
    {
     "data": {
      "image/png": "[encoded data removed]",
      "text/plain": [
       "<Figure size 640x480 with 1 Axes>"
      ]
     },
     "metadata": {},
     "output_type": "display_data"
    }
   ],
   "source": [
    "# 準備訓練資料\n",
    "X = data[\"words\"]\n",
    "y = data[\"boardID\"]\n",
    "\n",
    "# 把整個資料集七三切\n",
    "X_train, X_test, y_train, y_test = train_test_split(\n",
    "    X, y, test_size=0.3, random_state=777\n",
    ")\n",
    "# 定義模型訓練組合\n",
    "model_set = dict()\n",
    "model_set['clf_logistic'] = LogisticRegression()\n",
    "model_set['clf_dtree'] = DecisionTreeClassifier()\n",
    "model_set['clf_svm'] = svm.SVC(probability=True) # 要使用SVM的predict_proba的話，必須在叫出SVC的時候就將probability設為True\n",
    "model_set['clf_rf'] = RandomForestClassifier()\n",
    "# 定義 vectorizer\n",
    "# vectorizer = CountVectorizer(max_features=1000)\n",
    "vectorizer = TfidfVectorizer(max_features=1000)\n",
    "# 存結果\n",
    "result_set = dict()\n",
    "\n",
    "for k, model in model_set.items():\n",
    "    print(\"=\"*100)\n",
    "    print(f\"now training: {k}\")\n",
    "    result_set[k] = train_cv(vectorizer, model, X_train, y_train)\n",
    "    print(\"=\"*100)\n"
   ]
  },
  {
   "cell_type": "code",
   "execution_count": 22,
   "metadata": {},
   "outputs": [
    {
     "name": "stdout",
     "output_type": "stream",
     "text": [
      "              precision    recall  f1-score   support\n",
      "\n",
      "        mood       0.62      0.58      0.60       637\n",
      "relationship       0.67      0.84      0.75       643\n",
      "        talk       0.67      0.50      0.58       490\n",
      "\n",
      "    accuracy                           0.65      1770\n",
      "   macro avg       0.66      0.64      0.64      1770\n",
      "weighted avg       0.65      0.65      0.65      1770\n",
      "\n"
     ]
    }
   ],
   "source": [
    "y_pred = model_set['clf_rf'].predict(vectorizer.transform(X_test).toarray())\n",
    "print(classification_report(y_test, y_pred))"
   ]
  },
  {
   "cell_type": "markdown",
   "metadata": {},
   "source": [
    "# 4. 測試結果"
   ]
  },
  {
   "cell_type": "code",
   "execution_count": 23,
   "metadata": {},
   "outputs": [
    {
     "data": {
      "text/plain": [
       "array(['relationship'], dtype=object)"
      ]
     },
     "execution_count": 23,
     "metadata": {},
     "output_type": "execute_result"
    }
   ],
   "source": [
    "doc = \"今天和男友吵架並提了分手\"\n",
    "doc_list = getToken(doc)\n",
    "combined_string = ' '.join(doc_list)\n",
    "combined_string =[combined_string]\n",
    "model_set['clf_svm'].predict(vectorizer.transform(combined_string).toarray())"
   ]
  },
  {
   "cell_type": "code",
   "execution_count": 24,
   "metadata": {},
   "outputs": [
    {
     "data": {
      "text/plain": [
       "array(['talk'], dtype=object)"
      ]
     },
     "execution_count": 24,
     "metadata": {},
     "output_type": "execute_result"
    }
   ],
   "source": [
    "doc = \"昨天晚上做夢，夢到自己中了一百萬\"\n",
    "doc_list = getToken(doc)\n",
    "combined_string = ' '.join(doc_list)\n",
    "combined_string =[combined_string]\n",
    "model_set['clf_svm'].predict(vectorizer.transform(combined_string).toarray())"
   ]
  },
  {
   "cell_type": "code",
   "execution_count": 25,
   "metadata": {},
   "outputs": [
    {
     "data": {
      "text/plain": [
       "array(['mood'], dtype=object)"
      ]
     },
     "execution_count": 25,
     "metadata": {},
     "output_type": "execute_result"
    }
   ],
   "source": [
    "doc = \"最近梅雨季，每天都下雨，我的心情也跟著憂鬱了起來\"\n",
    "doc_list = getToken(doc)\n",
    "combined_string = ' '.join(doc_list)\n",
    "combined_string =[combined_string]\n",
    "model_set['clf_svm'].predict(vectorizer.transform(combined_string).toarray())"
   ]
  },
  {
   "cell_type": "markdown",
   "metadata": {},
   "source": [
    "### 集成式訓練"
   ]
  },
  {
   "cell_type": "code",
   "execution_count": null,
   "metadata": {},
   "outputs": [
    {
     "name": "stdout",
     "output_type": "stream",
     "text": [
      "投票分類器結果：\n",
      "              precision    recall  f1-score   support\n",
      "\n",
      "        mood       0.62      0.65      0.64       637\n",
      "relationship       0.74      0.83      0.78       643\n",
      "        talk       0.69      0.55      0.61       490\n",
      "\n",
      "    accuracy                           0.69      1770\n",
      "   macro avg       0.69      0.68      0.68      1770\n",
      "weighted avg       0.69      0.69      0.68      1770\n",
      "\n",
      "\n",
      "各個模型的準確率比較：\n",
      "邏輯回歸 準確率: 0.6740\n"
     ]
    }
   ],
   "source": [
    "# 從 model_set 中獲取分類器實例\n",
    "clf_logistic = model_set[\"clf_logistic\"]\n",
    "clf_dtree = model_set[\"clf_dtree\"]\n",
    "clf_svm = model_set[\"clf_svm\"]\n",
    "clf_rf = model_set[\"clf_rf\"]\n",
    "\n",
    "# 創建投票分類器\n",
    "voting_clf = VotingClassifier(\n",
    "    estimators=[\n",
    "        (\"lr\", clf_logistic),\n",
    "        (\"dt\", clf_dtree),\n",
    "        (\"svm\", clf_svm),\n",
    "        (\"rf\", clf_rf)\n",
    "    ],\n",
    "    voting=\"soft\",  # 使用預測機率進行投票\n",
    "     weights=[0.3, 0.1, 0.4, 0.2]  # 給SVM較高權重\n",
    ")\n",
    "\n",
    "# 轉換資料\n",
    "X_train_vec = vectorizer.fit_transform(X_train).toarray()\n",
    "X_test_vec = vectorizer.transform(X_test).toarray()\n",
    "\n",
    "# 訓練投票分類器\n",
    "voting_clf.fit(X_train_vec, y_train)\n",
    "\n",
    "# 預測並評估結果\n",
    "y_pred = voting_clf.predict(X_test_vec)\n",
    "print(\"投票分類器結果：\")\n",
    "print(classification_report(y_test, y_pred))\n",
    "\n",
    "# 比較各個模型的準確率\n",
    "print(\"\\n各個模型的準確率比較：\")\n",
    "from sklearn.metrics import accuracy_score\n",
    "\n",
    "# 評估各個單獨模型\n",
    "models = {\n",
    "    \"邏輯回歸\": clf_logistic,\n",
    "    \"決策樹\": clf_dtree,\n",
    "    \"SVM\": clf_svm,\n",
    "    \"隨機森林\": clf_rf,\n",
    "    \"投票分類器\": voting_clf\n",
    "}\n",
    "\n",
    "# 將各個模型訓練並評估\n",
    "results = {}\n",
    "for name, model in models.items():\n",
    "    # 如果模型已經訓練過，則直接評估\n",
    "    if name != \"投票分類器\":  # 因為投票分類器已經訓練過了\n",
    "        model.fit(X_train_vec, y_train)\n",
    "    \n",
    "    # 預測並計算準確率\n",
    "    pred = model.predict(X_test_vec)\n",
    "    accuracy = accuracy_score(y_test, pred)\n",
    "    results[name] = accuracy\n",
    "    print(f\"{name} 準確率: {accuracy:.4f}\")\n",
    "\n",
    "# 可視化比較結果\n",
    "import matplotlib.pyplot as plt\n",
    "\n",
    "plt.figure(figsize=(10, 6))\n",
    "plt.bar(results.keys(), results.values(), color='skyblue')\n",
    "plt.title('各個模型的準確率比較')\n",
    "plt.xlabel('模型')\n",
    "plt.ylabel('準確率')\n",
    "plt.ylim(0, 1)\n",
    "plt.xticks(rotation=45)\n",
    "plt.tight_layout()\n",
    "plt.show()"
   ]
  },
  {
   "cell_type": "markdown",
   "metadata": {},
   "source": [
    "### 打包分類器"
   ]
  },
  {
   "cell_type": "code",
   "execution_count": 29,
   "metadata": {},
   "outputs": [
    {
     "ename": "NameError",
     "evalue": "name 'tfidf' is not defined",
     "output_type": "error",
     "traceback": [
      "\u001b[1;31m---------------------------------------------------------------------------\u001b[0m",
      "\u001b[1;31mNameError\u001b[0m                                 Traceback (most recent call last)",
      "Cell \u001b[1;32mIn[29], line 7\u001b[0m\n\u001b[0;32m      5\u001b[0m joblib\u001b[38;5;241m.\u001b[39mdump(voting_clf, \u001b[38;5;124m'\u001b[39m\u001b[38;5;124mvoting_classifier_model.joblib\u001b[39m\u001b[38;5;124m'\u001b[39m)\n\u001b[0;32m      6\u001b[0m \u001b[38;5;66;03m# 保存TF-IDF向量化器\u001b[39;00m\n\u001b[1;32m----> 7\u001b[0m joblib\u001b[38;5;241m.\u001b[39mdump(\u001b[43mtfidf\u001b[49m, \u001b[38;5;124m'\u001b[39m\u001b[38;5;124mtfidf_vectorizer.joblib\u001b[39m\u001b[38;5;124m'\u001b[39m)\n\u001b[0;32m      9\u001b[0m \u001b[38;5;66;03m# 創建預測函數\u001b[39;00m\n\u001b[0;32m     10\u001b[0m \u001b[38;5;28;01mdef\u001b[39;00m \u001b[38;5;21mpredict_category\u001b[39m(text):\n\u001b[0;32m     11\u001b[0m     \u001b[38;5;66;03m# 載入模型和向量化器\u001b[39;00m\n",
      "\u001b[1;31mNameError\u001b[0m: name 'tfidf' is not defined"
     ]
    }
   ],
   "source": [
    "# 保存模型和向量化器\n",
    "import joblib\n",
    "\n",
    "# 保存投票分類器\n",
    "joblib.dump(voting_clf, 'voting_classifier_model.joblib')\n",
    "# 保存TF-IDF向量化器\n",
    "joblib.dump(vectorizer, 'tfidf_vectorizer.joblib')  # 將 tfidf 改為 vectorizer\n",
    "\n",
    "# 創建預測函數\n",
    "def predict_category(text):\n",
    "    # 載入模型和向量化器\n",
    "    model = joblib.load('voting_classifier_model.joblib')\n",
    "    vectorizer = joblib.load('tfidf_vectorizer.joblib')\n",
    "    \n",
    "    # 文本預處理\n",
    "    def preprocess_text(text):\n",
    "        # 移除URL\n",
    "        text = re.sub(r'http\\S+|www\\S+|https\\S+', '', text, flags=re.MULTILINE)\n",
    "        # 移除標點符號\n",
    "        text = re.sub(r'[^\\w\\s]', '', text)\n",
    "        # 分詞\n",
    "        words = jieba.cut(text)\n",
    "        return ' '.join(words)\n",
    "    \n",
    "    # 處理輸入文本\n",
    "    processed_text = preprocess_text(text)\n",
    "    # 轉換為TF-IDF特徵\n",
    "    features = vectorizer.transform([processed_text])\n",
    "    # 預測\n",
    "    prediction = model.predict(features)\n",
    "    # 獲取預測機率\n",
    "    probabilities = model.predict_proba(features)\n",
    "    \n",
    "    return {\n",
    "        'category': prediction[0],\n",
    "        'probabilities': {\n",
    "            'mood': probabilities[0][0],\n",
    "            'relationship': probabilities[0][1],\n",
    "            'talk': probabilities[0][2]\n",
    "        }\n",
    "    }\n",
    "\n",
    "# 使用範例\n",
    "test_text = \"今天心情很好，想要分享一些開心的事情\"\n",
    "result = predict_category(test_text)\n",
    "print(f\"預測類別: {result['category']}\")\n",
    "print(\"各類別機率:\")\n",
    "for category, prob in result['probabilities'].items():\n",
    "    print(f\"{category}: {prob:.2f}\")"
   ]
  }
 ],
 "metadata": {
  "kernelspec": {
   "display_name": "dcard_classification",
   "language": "python",
   "name": "python3"
  },
  "language_info": {
   "codemirror_mode": {
    "name": "ipython",
    "version": 3
   },
   "file_extension": ".py",
   "mimetype": "text/x-python",
   "name": "python",
   "nbconvert_exporter": "python",
   "pygments_lexer": "ipython3",
   "version": "3.8.20"
  }
 },
 "nbformat": 4,
 "nbformat_minor": 2
}
